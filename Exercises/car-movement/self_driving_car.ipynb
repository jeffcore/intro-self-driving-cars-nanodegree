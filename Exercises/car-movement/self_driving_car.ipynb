{
 "cells": [
  {
   "cell_type": "markdown",
   "metadata": {},
   "source": [
    "# Localization\n",
    "\n",
    "belief = probability  \n",
    "sense/measurments = product followed by normalizations  / bayes rule   \n",
    "move = convolution / total probability"
   ]
  },
  {
   "cell_type": "code",
   "execution_count": 11,
   "metadata": {},
   "outputs": [
    {
     "name": "stdout",
     "output_type": "stream",
     "text": [
      "[0.21157894736842103, 0.1515789473684211, 0.08105263157894739, 0.16842105263157897, 0.3873684210526316]\n"
     ]
    }
   ],
   "source": [
    "#Given the list motions=[1,1] which means the robot \n",
    "#moves right and then right again, compute the posterior \n",
    "#distribution if the robot first senses red, then moves \n",
    "#right one, then senses green, then moves right again, \n",
    "#starting with a uniform prior distribution.\n",
    "\n",
    "p = [0.2, 0.2, 0.2, 0.2, 0.2]\n",
    "world = ['green', 'red', 'red', 'green', 'green']\n",
    "measurements = ['red', 'green']\n",
    "motions = [1,1]\n",
    "pHit = 0.6\n",
    "pMiss = 0.2\n",
    "pExact = 0.8\n",
    "pOvershoot = 0.1\n",
    "pUndershoot = 0.1\n",
    "\n",
    "# based of measurments or observations of robot\n",
    "def sense(p, Z):\n",
    "    \"\"\"\n",
    "        p = starting p values - list \n",
    "        Z = measurement - string\n",
    "    \"\"\"    \n",
    "    # store the new p values\n",
    "    q=[]\n",
    "    \n",
    "    # updates the values of p with hit or miss values\n",
    "    # hit:  .2 * .6\n",
    "    # miss: .2 * .2\n",
    "    for i in range(len(p)):\n",
    "        # returns 1 or 0\n",
    "        hit = (Z == world[i])\n",
    "       \n",
    "        # if hit is true it cancels the right half of statement\n",
    "        # if hit is false is cancles out the left half\n",
    "        q.append(p[i] * (hit * pHit + (1-hit) * pMiss))\n",
    "\n",
    "    # get the normalizing sum\n",
    "    s = sum(q)\n",
    "    \n",
    "    # normalize q values    \n",
    "    for i in range(len(q)):\n",
    "        q[i] = q[i] / s\n",
    "    \n",
    "    return q\n",
    "\n",
    "# robot movement \n",
    "def move(p, U):\n",
    "    \"\"\"\n",
    "        p is starting p values\n",
    "        U is movement number\n",
    "    \"\"\"\n",
    "    q = []\n",
    "    \n",
    "    for i in range(len(p)):        \n",
    "        ## this is a modulos trick to shift index based on movement\n",
    "        s = pExact * p[(i-U) % len(p)]\n",
    "       \n",
    "    # baked in overshoot and undershoot probabilities\n",
    "        s = s + pOvershoot * p[(i-U-1) % len(p)]\n",
    "        s = s + pUndershoot * p[(i-U+1) % len(p)]\n",
    "        q.append(s)\n",
    "    \n",
    "   \n",
    "    return q\n",
    "\n",
    "# run code for any number of measurments\n",
    "for m in range(len(measurements)):\n",
    "    # change probabliities based on measurments of robot\n",
    "    p = sense(p, measurements[m])\n",
    "    # change probablities based on movements of robot\n",
    "    p = move(p, motions[m])\n",
    "\n",
    "\n",
    "print(p) "
   ]
  },
  {
   "cell_type": "code",
   "execution_count": 16,
   "metadata": {},
   "outputs": [
    {
     "name": "stdout",
     "output_type": "stream",
     "text": [
      "[12.4, 1.6]\n",
      "[22.0, 8.0]\n",
      "update  [4.998000799680128, 3.9984006397441023]\n",
      "predict  [5.998000799680128, 5.998400639744102]\n",
      "update  [5.999200191953932, 2.399744061425258]\n",
      "predict  [6.999200191953932, 4.399744061425258]\n",
      "update  [6.999619127420922, 2.0951800575117594]\n",
      "predict  [8.999619127420921, 4.09518005751176]\n",
      "update  [8.999811802788143, 2.0235152416216957]\n",
      "predict  [9.999811802788143, 4.023515241621696]\n",
      "update  [9.999906177177365, 2.0058615808441944]\n",
      "predict  [10.999906177177365, 4.005861580844194]\n"
     ]
    }
   ],
   "source": [
    "# kalman filter - adding two gaussian distributions and moving them\n",
    "\n",
    "def update(mean1, var1, mean2, var2):\n",
    "    new_mean = ((var2 * mean1 ) + (var1 * mean2)) / (var1 + var2)\n",
    "    new_var = (1 / ((1/var1) + (1/var2)))\n",
    "    return [new_mean, new_var]\n",
    "\n",
    "def predict(mean1, var1, mean2, var2):\n",
    "    new_mean = mean1 + mean2\n",
    "    new_var = var1 + var2\n",
    "    return [new_mean, new_var]\n",
    "\n",
    "\n",
    "print(update(10.,8.,13., 2.))\n",
    "\n",
    "print(predict(10., 4., 12., 4.))\n",
    "\n",
    "measurements = [5., 6., 7., 9., 10.]\n",
    "motion = [1., 1., 2., 1., 1.]\n",
    "measurement_sig = 4.\n",
    "motion_sig = 2.\n",
    "mu = 0.\n",
    "sig = 10000.\n",
    "\n",
    "for n in range(len(measurements)):\n",
    "    [mu, sig] = update(mu, sig, measurements[n], measurement_sig)\n",
    "    print('update ' , [mu, sig])\n",
    "    [mu, sig] = predict(mu, sig, motion[n], motion_sig)\n",
    "    print('predict ' , [mu, sig])\n",
    "    \n"
   ]
  },
  {
   "cell_type": "markdown",
   "metadata": {},
   "source": [
    "# Quantifying State"
   ]
  },
  {
   "cell_type": "code",
   "execution_count": 3,
   "metadata": {},
   "outputs": [
    {
     "name": "stdout",
     "output_type": "stream",
     "text": [
      "[150, 50]\n"
     ]
    }
   ],
   "source": [
    "# Constant velocity case\n",
    "\n",
    "# initial variables\n",
    "x = 0\n",
    "velocity = 50\n",
    "initial_state = [x, velocity]\n",
    "\n",
    "# predicted state (after three seconds)\n",
    "# this state has a new value for x, but the same velocity as in the initial state\n",
    "dt = 3\n",
    "new_x = x + velocity*dt\n",
    "predicted_state = [new_x, velocity]  # predicted_state = [150, 50]\n",
    "print(predicted_state)"
   ]
  },
  {
   "cell_type": "code",
   "execution_count": 6,
   "metadata": {},
   "outputs": [
    {
     "name": "stdout",
     "output_type": "stream",
     "text": [
      "[60.0, -10, -20]\n"
     ]
    }
   ],
   "source": [
    "# Constant acceleration, changing velocity\n",
    "\n",
    "# initial variables\n",
    "x = 0\n",
    "velocity = 50\n",
    "acc = -20\n",
    "\n",
    "initial_state = [x, velocity, acc]\n",
    "\n",
    "# predicted state after three seconds have elapsed\n",
    "# this state has a new value for x, and a new value for velocity (but the acceleration stays the same)\n",
    "dt = 3\n",
    "\n",
    "displacement_area_rect = velocity*dt\n",
    "displacement_area_tri = 0.5*acc*dt**2\n",
    "\n",
    "new_x = x + displacement_area_rect + displacement_area_tri\n",
    "new_vel = velocity + acc*dt\n",
    "\n",
    "predicted_state = [new_x, new_vel, acc]  # predicted_state = [60, -10, -20]\n",
    "print(predicted_state)"
   ]
  },
  {
   "cell_type": "markdown",
   "metadata": {},
   "source": [
    "# Car playground 1\n",
    "\n",
    "This notebook provides some initial variables and creates one car object, but, here, you are encouraged to play around with the car movement code!\n",
    "\n",
    "This playground is especially useful if you **modify the car.py file** and want to test out some new car property or function!\n",
    "\n",
    "So, your only tasks for this notebook are to use it as your own personal testing ground. Some ideas:\n",
    "1. Create multiple cars, with different initial states\n",
    "    - And visualize them using `display_world()`\n",
    "2. Add a function in car.py (by navigating back to it clicking the orange Jupyter icon), and then call that function, here!\n",
    "3. Add a new initial variable to __init__ in car.py and use it!"
   ]
  },
  {
   "cell_type": "code",
   "execution_count": 12,
   "metadata": {},
   "outputs": [],
   "source": [
    "import numpy as np\n",
    "import car\n",
    "\n",
    "%matplotlib inline\n",
    "\n",
    "# Auto-reload function so that this notebook keeps up with \n",
    "# changes in the class file \n",
    "%load_ext autoreload\n",
    "%autoreload 2"
   ]
  },
  {
   "cell_type": "code",
   "execution_count": 14,
   "metadata": {},
   "outputs": [
    {
     "data": {
      "image/png": "[encoded data removed]",
      "text/plain": [
       "<Figure size 432x288 with 1 Axes>"
      ]
     },
     "metadata": {
      "needs_background": "light"
     },
     "output_type": "display_data"
    },
    {
     "data": {
      "image/png": "[encoded data removed]",
      "text/plain": [
       "<Figure size 432x288 with 1 Axes>"
      ]
     },
     "metadata": {
      "needs_background": "light"
     },
     "output_type": "display_data"
    }
   ],
   "source": [
    "# Create a 2D world of 0's\n",
    "height = 4\n",
    "width = 6\n",
    "world = np.zeros((height, width))\n",
    "\n",
    "# Define the initial car state\n",
    "initial_position = [0, 0] # [y, x] (top-left corner)\n",
    "velocity = [0, 1] # [vy, vx] (moving to the right)\n",
    "\n",
    "# Create a car with initial params\n",
    "carla = car.Car(initial_position, velocity, world)\n",
    "carla.display_world()\n",
    "\n",
    "carla.turn_right()\n",
    "carla.move()\n",
    "carla.turn_left()\n",
    "carla.move()\n",
    "carla.display_world()"
   ]
  },
  {
   "cell_type": "code",
   "execution_count": null,
   "metadata": {},
   "outputs": [],
   "source": []
  }
 ],
 "metadata": {
  "kernelspec": {
   "display_name": "Python 3",
   "language": "python",
   "name": "python3"
  },
  "language_info": {
   "codemirror_mode": {
    "name": "ipython",
    "version": 3
   },
   "file_extension": ".py",
   "mimetype": "text/x-python",
   "name": "python",
   "nbconvert_exporter": "python",
   "pygments_lexer": "ipython3",
   "version": "3.7.7"
  }
 },
 "nbformat": 4,
 "nbformat_minor": 4
}
